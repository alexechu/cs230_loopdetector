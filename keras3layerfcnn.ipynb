{
 "cells": [
  {
   "cell_type": "code",
   "execution_count": null,
   "metadata": {},
   "outputs": [],
   "source": [
    "#!/usr/bin/env python\n",
    "\n",
    "# Train a 4-layer neural network\n",
    "import math\n",
    "import numpy as np\n",
    "import matplotlib.pyplot as plt\n",
    "import tensorflow as tf\n",
    "from keras import optimizers\n",
    "from keras.models import Sequential\n",
    "from keras.layers import Dense, Flatten"
   ]
  },
  {
   "cell_type": "code",
   "execution_count": null,
   "metadata": {},
   "outputs": [],
   "source": [
    "def train_model(X_train, Y_train, X_dev, Y_dev, learning_rate=0.0001, num_epochs=100, batch_size=32, print_cost=True):\n",
    "    # Define model\n",
    "    model = Sequential()\n",
    "    model.add(Flatten())\n",
    "    model.add(Dense(4096, activation='relu'))\n",
    "    model.add(Dense(1024, activation='relu'))\n",
    "    model.add(Dense(64, activation='sigmoid'))\n",
    "    \n",
    "    # Compile and train\n",
    "    model.compile(optimizer=optimizers.SGD(lr=learning_rate), loss='binary_crossentropy', metrics=['accuracy'])\n",
    "    history = model.fit(X_train, Y_train, validation_data=(X_dev, Y_dev), epochs=num_epochs, batch_size=batch_size)\n",
    "    \n",
    "    return model, history"
   ]
  },
  {
   "cell_type": "code",
   "execution_count": null,
   "metadata": {},
   "outputs": [],
   "source": [
    "# Load full data\n",
    "print('Loading data...')\n",
    "train_x = np.moveaxis(np.load('/data/loop_detector/train_X.npy'), -1, 0)\n",
    "train_y = np.moveaxis(np.load('/data/loop_detector/train_Y.npy'), -1, 0)\n",
    "dev_x = np.moveaxis(np.load('/data/loop_detector/dev_X.npy'), -1, 0)\n",
    "dev_y = np.moveaxis(np.load('/data/loop_detector/dev_Y.npy'), -1, 0)\n",
    "test_x = np.moveaxis(np.load('/data/loop_detector/test_X.npy'), -1, 0)\n",
    "test_y = np.moveaxis(np.load('/data/loop_detector/test_Y.npy'), -1, 0)\n",
    "\n",
    "trainx = np.expand_dims(train_x, axis=-1)\n",
    "trainy = np.reshape(train_y, (train_y.shape[0], train_y.shape[1]))\n",
    "devx = np.expand_dims(dev_x, axis=-1)\n",
    "devy = np.reshape(dev_y, (dev_y.shape[0], dev_y.shape[1]))\n",
    "testx = np.expand_dims(test_x, axis=-1)\n",
    "testy = np.reshape(test_y, (test_y.shape[0], test_y.shape[1]))\n",
    "print(trainx.shape)\n",
    "print(devy.shape)\n",
    "print('Data loaded...')"
   ]
  },
  {
   "cell_type": "code",
   "execution_count": null,
   "metadata": {},
   "outputs": [],
   "source": [
    "# Train model\n",
    "print('Beginning training...')\n",
    "# trainx = trainx[:2]\n",
    "# trainy = trainy[:2]\n",
    "lr = 0.0001\n",
    "nepochs = 10\n",
    "mbsize = 32\n",
    "model, history = train_model(trainx, trainy, devx, devy, learning_rate=lr, num_epochs=nepochs, batch_size=mbsize)"
   ]
  },
  {
   "cell_type": "code",
   "execution_count": null,
   "metadata": {},
   "outputs": [],
   "source": [
    "# Save model\n",
    "import pickle\n",
    "model.save('modelB.h5'.format(lr, nepochs, mbsize))\n",
    "with open('historyB.pkl'.format(lr, nepochs, mbsize), 'wb') as f:\n",
    "    pickle.dump(history.history, f, pickle.HIGHEST_PROTOCOL)"
   ]
  },
  {
   "cell_type": "code",
   "execution_count": null,
   "metadata": {},
   "outputs": [],
   "source": []
  }
 ],
 "metadata": {
  "kernelspec": {
   "display_name": "Environment (conda_tensorflow_p36)",
   "language": "python",
   "name": "conda_tensorflow_p36"
  },
  "language_info": {
   "codemirror_mode": {
    "name": "ipython",
    "version": 3
   },
   "file_extension": ".py",
   "mimetype": "text/x-python",
   "name": "python",
   "nbconvert_exporter": "python",
   "pygments_lexer": "ipython3",
   "version": "3.6.5"
  }
 },
 "nbformat": 4,
 "nbformat_minor": 2
}
