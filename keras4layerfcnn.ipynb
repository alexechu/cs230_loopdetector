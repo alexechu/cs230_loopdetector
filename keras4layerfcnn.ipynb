{
 "cells": [
  {
   "cell_type": "code",
   "execution_count": 1,
   "metadata": {},
   "outputs": [
    {
     "name": "stderr",
     "output_type": "stream",
     "text": [
      "Using TensorFlow backend.\n"
     ]
    }
   ],
   "source": [
    "#!/usr/bin/env python\n",
    "\n",
    "# Train a 4-layer neural network\n",
    "import math\n",
    "import numpy as np\n",
    "import matplotlib.pyplot as plt\n",
    "import tensorflow as tf\n",
    "from keras import optimizers\n",
    "from keras.models import Sequential\n",
    "from keras.layers import Dense, Flatten"
   ]
  },
  {
   "cell_type": "code",
   "execution_count": 2,
   "metadata": {},
   "outputs": [],
   "source": [
    "def train_model(X_train, Y_train, X_dev, Y_dev, learning_rate=0.0001, num_epochs=100, batch_size=32, print_cost=True):\n",
    "    # Define model\n",
    "    model = Sequential()\n",
    "    model.add(Flatten())\n",
    "    model.add(Dense(256, activation='relu'))\n",
    "    model.add(Dense(1024, activation='relu'))\n",
    "    model.add(Dense(256, activation='relu'))\n",
    "    model.add(Dense(64, activation='sigmoid'))\n",
    "    \n",
    "    # Compile and train\n",
    "    model.compile(optimizer=optimizers.SGD(lr=learning_rate), loss='binary_crossentropy', metrics=['accuracy'])\n",
    "    history = model.fit(X_train, Y_train, validation_data=(X_dev, Y_dev), epochs=num_epochs, batch_size=batch_size)\n",
    "    \n",
    "    return model, history"
   ]
  },
  {
   "cell_type": "code",
   "execution_count": 6,
   "metadata": {},
   "outputs": [
    {
     "name": "stdout",
     "output_type": "stream",
     "text": [
      "Loading data...\n",
      "(178800, 64, 64, 1)\n",
      "(22350, 64)\n",
      "Data loaded...\n"
     ]
    }
   ],
   "source": [
    "# Load full data\n",
    "print('Loading data...')\n",
    "train_x = np.moveaxis(np.load('/data/loop_detector/train_X.npy'), -1, 0)\n",
    "train_y = np.moveaxis(np.load('/data/loop_detector/train_Y.npy'), -1, 0)\n",
    "dev_x = np.moveaxis(np.load('/data/loop_detector/dev_X.npy'), -1, 0)\n",
    "dev_y = np.moveaxis(np.load('/data/loop_detector/dev_Y.npy'), -1, 0)\n",
    "test_x = np.moveaxis(np.load('/data/loop_detector/test_X.npy'), -1, 0)\n",
    "test_y = np.moveaxis(np.load('/data/loop_detector/test_Y.npy'), -1, 0)\n",
    "\n",
    "trainx = np.expand_dims(train_x, axis=-1)\n",
    "trainy = np.reshape(train_y, (train_y.shape[0], train_y.shape[1]))\n",
    "devx = np.expand_dims(dev_x, axis=-1)\n",
    "devy = np.reshape(dev_y, (dev_y.shape[0], dev_y.shape[1]))\n",
    "testx = np.expand_dims(test_x, axis=-1)\n",
    "testy = np.reshape(test_y, (test_y.shape[0], test_y.shape[1]))\n",
    "print(trainx.shape)\n",
    "print(devy.shape)\n",
    "print('Data loaded...')"
   ]
  },
  {
   "cell_type": "code",
   "execution_count": 7,
   "metadata": {},
   "outputs": [
    {
     "name": "stdout",
     "output_type": "stream",
     "text": [
      "Beginning training...\n",
      "Train on 178800 samples, validate on 22350 samples\n",
      "Epoch 1/10\n",
      "178800/178800 [==============================] - 68s 383us/step - loss: 0.6660 - acc: 0.6154 - val_loss: 0.6329 - val_acc: 0.6494\n",
      "Epoch 2/10\n",
      "178800/178800 [==============================] - 68s 380us/step - loss: 0.6174 - acc: 0.6671 - val_loss: 0.6079 - val_acc: 0.6782\n",
      "Epoch 3/10\n",
      "178800/178800 [==============================] - 69s 387us/step - loss: 0.5953 - acc: 0.6896 - val_loss: 0.5929 - val_acc: 0.6913\n",
      "Epoch 4/10\n",
      "178800/178800 [==============================] - 68s 381us/step - loss: 0.5809 - acc: 0.7023 - val_loss: 0.5761 - val_acc: 0.7057\n",
      "Epoch 5/10\n",
      "178800/178800 [==============================] - 69s 385us/step - loss: 0.5706 - acc: 0.7103 - val_loss: 0.5675 - val_acc: 0.7129\n",
      "Epoch 6/10\n",
      "178800/178800 [==============================] - 68s 381us/step - loss: 0.5624 - acc: 0.7162 - val_loss: 0.5583 - val_acc: 0.7188\n",
      "Epoch 7/10\n",
      "178800/178800 [==============================] - 69s 384us/step - loss: 0.5555 - acc: 0.7210 - val_loss: 0.5546 - val_acc: 0.7206\n",
      "Epoch 8/10\n",
      "178800/178800 [==============================] - 68s 380us/step - loss: 0.5494 - acc: 0.7248 - val_loss: 0.5518 - val_acc: 0.7213\n",
      "Epoch 9/10\n",
      "178800/178800 [==============================] - 68s 381us/step - loss: 0.5439 - acc: 0.7284 - val_loss: 0.5431 - val_acc: 0.7287\n",
      "Epoch 10/10\n",
      "178800/178800 [==============================] - 69s 383us/step - loss: 0.5389 - acc: 0.7314 - val_loss: 0.5399 - val_acc: 0.7292\n"
     ]
    }
   ],
   "source": [
    "# Train model\n",
    "print('Beginning training...')\n",
    "# trainx = trainx[:2]\n",
    "# trainy = trainy[:2]\n",
    "lr = 0.001\n",
    "nepochs = 10\n",
    "mbsize = 32\n",
    "model, history = train_model(trainx, trainy, devx, devy, learning_rate=lr, num_epochs=nepochs, batch_size=mbsize)"
   ]
  },
  {
   "cell_type": "code",
   "execution_count": 10,
   "metadata": {},
   "outputs": [
    {
     "name": "stdout",
     "output_type": "stream",
     "text": [
      "70638th example\n",
      "Pred True Correct\n",
      "[[  0.   0.   0.]\n",
      " [  0.   0.   0.]\n",
      " [  0.   0.   0.]\n",
      " [  0.   0.   0.]\n",
      " [  0.   0.   0.]\n",
      " [  0.   0.   0.]\n",
      " [  1.   1.   0.]\n",
      " [  1.   1.   0.]\n",
      " [  1.   1.   0.]\n",
      " [  1.   1.   0.]\n",
      " [  1.   0.  99.]\n",
      " [  0.   0.   0.]\n",
      " [  0.   1. -99.]\n",
      " [  0.   1. -99.]\n",
      " [  1.   1.   0.]\n",
      " [  0.   1. -99.]\n",
      " [  1.   1.   0.]\n",
      " [  0.   0.   0.]\n",
      " [  0.   0.   0.]\n",
      " [  0.   0.   0.]\n",
      " [  0.   0.   0.]\n",
      " [  0.   0.   0.]\n",
      " [  0.   0.   0.]\n",
      " [  1.   0.  99.]\n",
      " [  1.   0.  99.]\n",
      " [  1.   1.   0.]\n",
      " [  1.   1.   0.]\n",
      " [  1.   0.  99.]\n",
      " [  0.   0.   0.]\n",
      " [  0.   0.   0.]\n",
      " [  0.   0.   0.]\n",
      " [  0.   0.   0.]\n",
      " [  0.   1. -99.]\n",
      " [  0.   1. -99.]\n",
      " [  1.   1.   0.]\n",
      " [  1.   1.   0.]\n",
      " [  1.   1.   0.]\n",
      " [  1.   1.   0.]\n",
      " [  1.   1.   0.]\n",
      " [  0.   1. -99.]\n",
      " [  0.   1. -99.]\n",
      " [  0.   1. -99.]\n",
      " [  0.   1. -99.]\n",
      " [  0.   1. -99.]\n",
      " [  0.   0.   0.]\n",
      " [  1.   0.  99.]\n",
      " [  1.   1.   0.]\n",
      " [  1.   1.   0.]\n",
      " [  1.   1.   0.]\n",
      " [  1.   1.   0.]\n",
      " [  0.   1. -99.]\n",
      " [  0.   0.   0.]\n",
      " [  1.   0.  99.]\n",
      " [  1.   0.  99.]\n",
      " [  1.   1.   0.]\n",
      " [  1.   1.   0.]\n",
      " [  1.   0.  99.]\n",
      " [  1.   0.  99.]\n",
      " [  0.   0.   0.]\n",
      " [  0.   0.   0.]\n",
      " [  0.   0.   0.]\n",
      " [  0.   0.   0.]\n",
      " [  0.   1. -99.]\n",
      " [  1.   1.   0.]]\n"
     ]
    }
   ],
   "source": [
    "# Error analysis\n",
    "\n",
    "my_model = model\n",
    "x = trainx\n",
    "y = trainy\n",
    "\n",
    "i = np.random.choice(range(x.shape[0]))\n",
    "print(str(i) + 'th example')\n",
    "pred = np.round(my_model.predict(x[i].reshape(1,64,64,1)).reshape(64,1))\n",
    "label = y[i].reshape(64,1)\n",
    "results = np.concatenate((pred, label, (pred-label)*99), axis=1)\n",
    "print('Pred True Correct')\n",
    "print(results)"
   ]
  },
  {
   "cell_type": "code",
   "execution_count": 11,
   "metadata": {},
   "outputs": [],
   "source": [
    "# Save model\n",
    "import pickle\n",
    "model.save('model256102425664_lr{}_epochs{}_mbsize12{}.h5'.format(lr, nepochs, mbsize))\n",
    "with open('history256102425664_lr{}_epochs{}_mbsize12{}.pkl'.format(lr, nepochs, mbsize), 'wb') as f:\n",
    "    pickle.dump(history.history, f, pickle.HIGHEST_PROTOCOL)\n"
   ]
  },
  {
   "cell_type": "code",
   "execution_count": null,
   "metadata": {},
   "outputs": [],
   "source": []
  }
 ],
 "metadata": {
  "kernelspec": {
   "display_name": "Environment (conda_tensorflow_p36)",
   "language": "python",
   "name": "conda_tensorflow_p36"
  },
  "language_info": {
   "codemirror_mode": {
    "name": "ipython",
    "version": 3
   },
   "file_extension": ".py",
   "mimetype": "text/x-python",
   "name": "python",
   "nbconvert_exporter": "python",
   "pygments_lexer": "ipython3",
   "version": "3.6.5"
  }
 },
 "nbformat": 4,
 "nbformat_minor": 2
}
